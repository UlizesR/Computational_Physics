{
 "cells": [
  {
   "cell_type": "code",
   "execution_count": 28,
   "metadata": {},
   "outputs": [],
   "source": [
    "import math\n",
    "import numpy as np"
   ]
  },
  {
   "cell_type": "markdown",
   "metadata": {},
   "source": [
    "# Relativistic Time Calculator"
   ]
  },
  {
   "cell_type": "markdown",
   "metadata": {},
   "source": [
    "Lorentz factor for time and length dilation:\n",
    "$$\n",
    "    \\gamma = \\frac{1}{\\sqrt{1 - \\frac{v^2}{c^2}}} \n",
    "    \\hspace{2cm}\n",
    "    \\Delta t = t_0 \\cdot \\gamma \n",
    "    \\hspace{2cm}\n",
    "    L = \\frac{L_0}{\\gamma} = L_0 \\cdot \\sqrt{1 - \\frac{v^2}{c^2}}\n",
    "$$\n",
    "Where $\\gamma$ is the Lorentz factor, $v$ is the moving object's speed, $c$ is the speed of light, $t_0$ is the moving object's time, and $L_0$ is the proper distance measured by stationary object.\n",
    "\n",
    "Relative speed of the USS-PHYS-300 ship: $v$\n",
    "\n",
    "Time it took the ship to do the return trip according to the ship's frame of reference: $T$\n",
    "\n",
    "Time it took the ship to do the full round trip according to the Earth's frame of referece: \n",
    "$$ T_{tot, E} = 2 \\cdot T \\cdot \\gamma$$\n",
    "Distance between the Earth and outpost SCI-250 according to the ship's frame of reference: \n",
    "$$ D_S = v \\cdot T$$\n",
    "Distance between the Earth and outpost SCI-250 according to the Earth's measurements: \n",
    "$$ D_E = D_S \\cdot \\gamma $$"
   ]
  },
  {
   "cell_type": "code",
   "execution_count": 29,
   "metadata": {},
   "outputs": [],
   "source": [
    "def DistanceTraveled(v: float, T: float) -> None:\n",
    "    \"\"\"\n",
    "        Calculates the distance traveled by the spaceship\n",
    "        Relative to the observer on Earth and the spaceship\n",
    "        \n",
    "        Args:\n",
    "            v (float): The spaceship's relative speed\n",
    "            T (float): The time traveled by the spaceship\n",
    "\n",
    "        Returns:\n",
    "            None: Prints the distance traveled by the spaceship\n",
    "    \"\"\"\n",
    "    c: float = 3e8          # speed of light in m/s\n",
    "    v = v * c        # convert the relative speed to m/s\n",
    "    # checks that the relative speed is less than the speed of light\n",
    "    if (v >= c):\n",
    "        print(\"Sorry, we respect Einstein here. You should have entered a valid input for the speed.\")\n",
    "        \n",
    "    # calculate the distance traveled by the spaceship and it time of travel relative to the observer on Earth\n",
    "    gamma = 1/math.sqrt(1-(v**2/c**2))\n",
    "    # calculate the distance traveled by the spaceship relative to the spaceship\n",
    "    D_S = (v * T) \n",
    "    T_tot_E = 2 * T * gamma\n",
    "    D_E = D_S * gamma\n",
    "    # print the results\n",
    "    print(f\"From the Earth\\'s frame, it takes {T_tot_E} years to cover a distance of {D_E} light years.\")\n",
    "    print(f\"From the spaceship\\'s frame, it takes {T} years to cover a distance of {D_S} light years.\")    \n",
    "    "
   ]
  },
  {
   "cell_type": "code",
   "execution_count": 30,
   "metadata": {},
   "outputs": [
    {
     "name": "stdout",
     "output_type": "stream",
     "text": [
      "Enter the velocity of the spaceship as a number between 0 and 1.\n",
      "From the Earth's frame, it takes 64.05126152203484 years to cover a distance of 9127304766.889965 light years.\n",
      "From the spaceship's frame, it takes 10.0 years to cover a distance of 2850000000.0 light years.\n"
     ]
    }
   ],
   "source": [
    "print(\"Enter the velocity of the spaceship as a number between 0 and 1.\")\n",
    "v = float(input(\"Enter the relative speed of the spaceship: \"))\n",
    "T = float(input(\"Enter the time traveled by the spaceship: \"))\n",
    "DistanceTraveled(v, T)"
   ]
  },
  {
   "cell_type": "markdown",
   "metadata": {},
   "source": [
    "# Planetary Orbits, Quadratics, and Python Function"
   ]
  },
  {
   "cell_type": "markdown",
   "metadata": {},
   "source": [
    "Kepler's second law:\n",
    "$r_1 \\cdot v_1 = r_2 \\cdot v_2$\n",
    "\n",
    "To solve for v_2, get the smallest root of the following quadratic\n",
    "The roots are given by:\n",
    "$$\n",
    "v_2 = \\frac{-(- \\frac{2GM}{v_1 r_1}) \\pm \\sqrt{\\left(- \\frac{2GM}{v_1 r_1}\\right)^2 - 4(1)\\left(-v_1^2 + \\frac{2GM}{r_1}\\right)}}{2}\n",
    "$$\n",
    "\n",
    "Simplifying this:\n",
    "$$\n",
    "v_2 = \\frac{\\frac{2GM}{v_1 r_1} \\pm \\sqrt{\\left(\\frac{2GM}{v_1 r_1}\\right)^2 + 4 \\left( v_1^2 - \\frac{2GM}{r_1} \\right)}}{2}\n",
    "$$\n",
    "$$\n",
    "v_2 = \\frac{\\frac{2GM}{v_1 r_1} \\pm \\sqrt{\\frac{4G^2M^2}{v_1^2r_1^2} + 4v_1^2 - \\frac{8GM}{r_1}}}{2}\n",
    "$$\n",
    "Further simplifying:\n",
    "\\begin{align*}\n",
    "v_2 &= \\frac{GM}{v_1 r_1} \\pm \\sqrt{\\frac{G^2M^2}{v_1^2 r_1^2} + v_1^2 - \\frac{2GM}{r_1}} \\\\\n",
    "&=  \\frac{GM}{v_1 r_1} \\pm \\sqrt{\\frac{(GM - v_{1}^{2}r_{1})^{2}}{v_{1}^{2}r_{1}^{2}}} \\\\\n",
    "&= \\frac{GM}{v_1 r_1} \\pm \\frac{-(GM - v_{1}^{2}r_{1})}{v_{1}r_{1}}\n",
    "\\end{align*}\n",
    "\n",
    "Getting the zeroes:\n",
    "Minus sign\n",
    "$$\n",
    "\\frac{GM}{v_1 r_1} + \\frac{-(GM - v_{1}^{2}r_{1})}{v_{1}r_{1}} = \\frac{v_{1}^{2}r_{1}}{v_{1}r_{1}} = v_{1}\n",
    "$$\n",
    "Plus sign\n",
    "$$\n",
    "\\frac{GM}{v_1 r_1} - \\frac{-(GM - v_{1}^{2}r_{1})}{v_{1}r_{1}} = \\frac{2GM - v_{1}^{2}r_{1}}{v_{1}r_{1}}\n",
    "$$\n",
    "\n",
    "Thus we see that the smaller root is:\n",
    "$$\n",
    "v_2 = \\frac{GM}{v_1 r_1} - \\sqrt{\\frac{G^2M^2}{v_1^2 r_1^2} + v_1^2 - \\frac{2GM}{r_1}}\n",
    "$$"
   ]
  },
  {
   "cell_type": "code",
   "execution_count": 31,
   "metadata": {},
   "outputs": [],
   "source": [
    "def my_quadratic_solver(a: float, b: float, c: float) -> np.array([float]):\n",
    "    \"\"\"\n",
    "        Calculates the roots of a quadratic equation\n",
    "\n",
    "        Args:\n",
    "            a (float): the coefficient of x^2\n",
    "            b (float): the coefficient of x\n",
    "            c (float): the constant term\n",
    "        \n",
    "        Returns:\n",
    "            NP.Array: An array of the roots of the quadratic equation\n",
    "    \"\"\"\n",
    "    # get the square root term and the divisor\n",
    "    sqrt_term = math.sqrt(b**2 - 4*a*c)\n",
    "    divisor = 2*a\n",
    "    # calculate the roots\n",
    "    x1 = (-b + sqrt_term) / divisor\n",
    "    x2 = (-b - sqrt_term) / divisor\n",
    "    # return the roots\n",
    "    return np.array([x1, x2])"
   ]
  },
  {
   "cell_type": "markdown",
   "metadata": {},
   "source": [
    "The orbital period is given by:\n",
    "$$\n",
    "    T = \\frac{2 \\pi a b}{r_1 v_1}\n",
    "$$\n",
    "where:\n",
    "$$\n",
    "    a = \\frac{r_1 + r_2}{2}\n",
    "    \\hspace{2cm}\n",
    "    b = \\sqrt{r_1 r_2}\n",
    "$$\n",
    "Where $r_2$ is given by:\n",
    "$$\n",
    "    r_2 = \\frac{r_1 v_1}{v_2}\n",
    "$$"
   ]
  },
  {
   "cell_type": "code",
   "execution_count": 32,
   "metadata": {},
   "outputs": [],
   "source": [
    "G = 6.6738e-11\n",
    "M = 1.9891e30\n",
    "\n",
    "def orbital_time(r1: float, v1: float) -> float:\n",
    "    \"\"\"\n",
    "        Calculates the orbital time of a planet in years\n",
    "\n",
    "        Args:\n",
    "            r1 (float): distance of closest approach\n",
    "            v1 (float): linear velocity at closest approach\n",
    "        \n",
    "        Returns:\n",
    "            float: The orbital time of a planet in years\n",
    "    \"\"\"\n",
    "    # calculate v2 by solving the quadratic equation\n",
    "    # v2^2 - (2*G*M)/r2 + (v1^2 - (2*G*M)/r1) = 0\n",
    "    A = 1\n",
    "    B = -((2*G*M)/(r1*v1))\n",
    "    C = -(v1**2 - (2*G*M)/r1)\n",
    "    roots = my_quadratic_solver(A, B, C)\n",
    "    # v2 is the smaller root\n",
    "    v2 = roots.min()\n",
    "    # calculate r2\n",
    "    r2 = (r1 * v1) / v2\n",
    "    # calculate the orbital time\n",
    "    # T = (2 * pi * a * b) / (r1 * v1)\n",
    "    a = (r1 + r2) / 2\n",
    "    b = math.sqrt(r1 * r2)\n",
    "    T = (2 * math.pi * a * b) / (r1 * v1)\n",
    "    # convert the orbital time to years\n",
    "    divisor = (365 * 24 * 60 * 60)\n",
    "    # return the orbital time\n",
    "    return round(T / divisor)"
   ]
  },
  {
   "cell_type": "code",
   "execution_count": 33,
   "metadata": {},
   "outputs": [
    {
     "name": "stdout",
     "output_type": "stream",
     "text": [
      "The orbital time of Earth is 1 year.\n",
      "The orbital time of Halley's Comet is 76 years.\n"
     ]
    }
   ],
   "source": [
    "t = orbital_time(1.4710e11, 3.0287e4)\n",
    "print(f\"The orbital time of Earth is {t} year.\")\n",
    "ht = orbital_time(8.7830e10, 5.4529e4)\n",
    "print(f\"The orbital time of Halley's Comet is {ht} years.\")"
   ]
  },
  {
   "cell_type": "markdown",
   "metadata": {},
   "source": [
    "## Newton’s Pi(e)\n",
    "\n",
    "The Binomial Coefficient is given by:\n",
    "\n",
    "$$\n",
    "C = \\frac{n!}{k!} = \\frac{n(n-1)\\dots(n-k+1)}{k!}\n",
    "$$"
   ]
  },
  {
   "cell_type": "code",
   "execution_count": 34,
   "metadata": {},
   "outputs": [],
   "source": [
    "import math\n",
    "\n",
    "def binom_coeff(N: int, n: float, k: int) -> float:\n",
    "    \"\"\"\n",
    "    Calculates the binomial coefficient\n",
    "\n",
    "    Args:\n",
    "        N (int): The number of trials\n",
    "        n (float): The exponent of the binomial coefficient\n",
    "        k (int): the index of the binomial coefficient\n",
    "\n",
    "    Returns:\n",
    "        float: Returns the binomial coefficient\n",
    "    \"\"\"\n",
    "    c_k = n \n",
    "    # cannot use math.factorial because it only works for integers\n",
    "    # so we iterate through the range of N and calculate the binomial coefficient\n",
    "    # until we reach the index k\n",
    "    \n",
    "    for i in range(1, N + 1):\n",
    "        if i == k:\n",
    "            break\n",
    "        c_k *= (n - i)\n",
    "        \n",
    "    c_k /= math.factorial(k) \n",
    "    return c_k"
   ]
  },
  {
   "cell_type": "code",
   "execution_count": 35,
   "metadata": {},
   "outputs": [
    {
     "name": "stdout",
     "output_type": "stream",
     "text": [
      "The binomial coefficient is 10.0.\n"
     ]
    }
   ],
   "source": [
    "n = binom_coeff(20, 5, 3)\n",
    "print(f\"The binomial coefficient is {n}.\")"
   ]
  },
  {
   "cell_type": "markdown",
   "metadata": {},
   "source": [
    "Given $x^{2} + y^{2} = 1$ Solving for $y$ we have $y = (1 - x^{2})^{1/2}$\n",
    "The Area under the curve is\n",
    "$$\n",
    "I = \\int_{x=0}^{x=1} (1 - x^{2})^{1/2} dx\n",
    "$$\n",
    "\n",
    "Using binomial expansion we get that the integral becomes\n",
    "$$\n",
    "I = \\int_{x=0}^{x=1} \\biggl[ \\sum_{k=0}^{N}\\binom{n}{k}(-1)^{k}x^{2k} \\biggr] dx\n",
    "$$\n",
    "Rewriting \n",
    "$$\n",
    "I = \\sum_{k=0}^{N}\\int_{x=0}^{x=1} \\binom{n}{k}(-1)^{k}x^{2k}  dx\n",
    "$$\n",
    "Pulling out constant terms out of the integral\n",
    "$$\n",
    "I = \\sum_{k=0}^{N}\\binom{n}{k}(-1)^{k}\\int_{x=0}^{x=1} x^{2k}  dx\n",
    "$$\n",
    "Solving the integral we get\n",
    "$$\n",
    "    I = \\sum_{k=0}^{N} C_k =  \\sum_{k=0}^{N}\\binom{n}{k} (-1)^{k}\\frac{x^{2k + 1}}{2k + 1}\n",
    "$$\n",
    "\n",
    "Summation $\\Sigma$ and Multiplication $\\Pi$ are simply for loops\n",
    "\n"
   ]
  },
  {
   "cell_type": "code",
   "execution_count": 36,
   "metadata": {},
   "outputs": [],
   "source": [
    "import math \n",
    "def get_integral(N: int, n: float, x: float) -> float:\n",
    "    \"\"\"\n",
    "        Calculates the integral of x^n from 0 to 1 using the binomial expansion\n",
    "\n",
    "        Args:\n",
    "            N (int): the number of trials\n",
    "            n (float): the exponent\n",
    "            x (float): the value of x\n",
    "        Returns:\n",
    "            float: the binomial coefficient\n",
    "    \"\"\"\n",
    "    # Set the initial value of the integral to 0        \n",
    "    I = 0\n",
    "    \n",
    "    # Iterate through the range of N and calculate the integral\n",
    "    for k in range(0, N + 1):\n",
    "        # calculate the binomial coefficient\n",
    "        c_k = binom_coeff(N, n, k)\n",
    "        # calculate the denominator\n",
    "        d = c_k * math.pow(x, 2*k + 1)\n",
    "        # calculate the numerator\n",
    "        n = math.pow(-1, k) / (2*k + 1)\n",
    "        \n",
    "        # add the value of the integral\n",
    "        I += (n / d) * c_k\n",
    "        \n",
    "    return I\n",
    "\n"
   ]
  },
  {
   "cell_type": "code",
   "execution_count": 37,
   "metadata": {},
   "outputs": [
    {
     "name": "stdout",
     "output_type": "stream",
     "text": [
      "The value of pi is 3.148215097537937.\n"
     ]
    }
   ],
   "source": [
    "newtons_pi = 4*get_integral(150, 0.5, 1)\n",
    "\n",
    "print(f\"The value of pi is {newtons_pi}.\")"
   ]
  }
 ],
 "metadata": {
  "kernelspec": {
   "display_name": "Python 3 (ipykernel)",
   "language": "python",
   "name": "python3"
  },
  "language_info": {
   "codemirror_mode": {
    "name": "ipython",
    "version": 3
   },
   "file_extension": ".py",
   "mimetype": "text/x-python",
   "name": "python",
   "nbconvert_exporter": "python",
   "pygments_lexer": "ipython3",
   "version": "3.12.0"
  }
 },
 "nbformat": 4,
 "nbformat_minor": 4
}
