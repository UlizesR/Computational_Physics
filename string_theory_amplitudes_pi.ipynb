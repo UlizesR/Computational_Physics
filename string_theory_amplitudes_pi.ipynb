{
 "cells": [
  {
   "cell_type": "code",
   "execution_count": 2,
   "metadata": {},
   "outputs": [],
   "source": [
    "import mpmath as mp"
   ]
  },
  {
   "cell_type": "markdown",
   "metadata": {},
   "source": [
    "# Using the String Theory Method\n",
    "\n",
    "From the paper by Arnab Priya Saha and Aninda Sinha. A new series for $\\pi$ and its convergence.\n",
    "\n",
    "$$\n",
    "\\pi = 4 + \\sum_{n = 1}^{\\infty} \\frac{1}{n!}\\biggl( \\frac{1}{n + \\lambda} - \\frac{4}{2n + 1} \\biggr)\\biggl(\\frac{(2n + 1)^{2}}{4(n + \\lambda)} - n \\biggr)_{n-1}\n",
    "$$\n",
    "\n",
    "where $(a)_{n-1}$ is the Pochhammer Symbol\n",
    "\n",
    "$$\n",
    "(a)_{n-1} = \\frac{\\Gamma(a + n - 1)}{\\Gamma(a)}\n",
    "$$"
   ]
  },
  {
   "cell_type": "code",
   "execution_count": 3,
   "metadata": {},
   "outputs": [],
   "source": [
    "def set_precision(dps):\n",
    "    mp.dps = dps\n",
    "\n",
    "def calculate_term1(factorial):\n",
    "    return 1.0 / factorial\n",
    "\n",
    "def calculate_term2(n, lambda_val):\n",
    "    return 1.0 / (n + lambda_val) - 4 / (2 * n + 1)\n",
    "\n",
    "def calculate_term3(n, lambda_val):\n",
    "    return ((2 * n + 1) ** 2) / (4 * (n + lambda_val)) - n\n",
    "\n",
    "def calculate_pochhammer(term3, n):\n",
    "    pochhammer = 1\n",
    "    for i in range(n - 1):\n",
    "        pochhammer *= term3 + i\n",
    "    return pochhammer\n",
    "\n",
    "def sta_pi(lambda_val, iters):\n",
    "    set_precision(100)\n",
    "    pi = mp.mpf(4)\n",
    "    n = 1\n",
    "    factorial = mp.mpf(n)\n",
    "\n",
    "    for i in range(iters):\n",
    "        term1 = calculate_term1(factorial)\n",
    "        term2 = calculate_term2(n, lambda_val)\n",
    "        term3 = calculate_term3(n, lambda_val)\n",
    "        pochhammer = calculate_pochhammer(term3, n)\n",
    "\n",
    "        pi += term1 * term2 * pochhammer\n",
    "\n",
    "        n += 1\n",
    "        factorial = factorial * n\n",
    "\n",
    "    return pi, n - 1"
   ]
  },
  {
   "cell_type": "code",
   "execution_count": 4,
   "metadata": {},
   "outputs": [
    {
     "name": "stdout",
     "output_type": "stream",
     "text": [
      "Pi is 3.14159265359024 and it took 30 iterations to calculate it.\n"
     ]
    }
   ],
   "source": [
    "pi, n = sta_pi(42, 30)\n",
    "print(f\"Pi is {pi} and it took {n} iterations to calculate it.\")"
   ]
  }
 ],
 "metadata": {
  "kernelspec": {
   "display_name": ".venv",
   "language": "python",
   "name": "python3"
  },
  "language_info": {
   "codemirror_mode": {
    "name": "ipython",
    "version": 3
   },
   "file_extension": ".py",
   "mimetype": "text/x-python",
   "name": "python",
   "nbconvert_exporter": "python",
   "pygments_lexer": "ipython3",
   "version": "3.12.0"
  }
 },
 "nbformat": 4,
 "nbformat_minor": 2
}
